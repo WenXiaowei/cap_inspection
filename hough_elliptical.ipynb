{
 "metadata": {
  "language_info": {
   "codemirror_mode": {
    "name": "ipython",
    "version": 3
   },
   "file_extension": ".py",
   "mimetype": "text/x-python",
   "name": "python",
   "nbconvert_exporter": "python",
   "pygments_lexer": "ipython3",
   "version": "3.7.9-final"
  },
  "orig_nbformat": 2,
  "kernelspec": {
   "name": "python3",
   "display_name": "Python 3.7.9 64-bit",
   "metadata": {
    "interpreter": {
     "hash": "f04d200b35e943e5941ce662a09d462b0ab2e8c5d229c092de841aa16abb7442"
    }
   }
  }
 },
 "nbformat": 4,
 "nbformat_minor": 2,
 "cells": [
  {
   "cell_type": "code",
   "execution_count": null,
   "metadata": {},
   "outputs": [],
   "source": [
    "import matplotlib.pyplot as plt\n",
    "\n",
    "from skimage import data, color, img_as_ubyte\n",
    "from skimage.feature import canny\n",
    "from skimage.transform import hough_ellipse\n",
    "from skimage.draw import ellipse_perimeter\n",
    "import cv2\n",
    "# Load picture, convert to grayscale and detect edges\n",
    "\n",
    "\n",
    "img = cv2.imread(\"./images/d_04.bmp\",cv2.COLOR_BGR2GRAY)\n",
    "\n",
    "image_rgb= img[40:550,145:650]\n",
    "image_rgb=cv2.GaussianBlur(image_rgb,(9,9),0)\n",
    "\n",
    "# image_rgb = data.coffee()[0:220, 160:420]\n",
    "image_gray = color.rgb2gray(image_rgb)\n",
    "edges = canny(image_gray, sigma=2.0,\n",
    "              low_threshold=0.8, high_threshold=0.9)\n",
    "\n",
    "plt.imshow(edges)\n",
    "plt.show()\n",
    "\n",
    "circles = cv2.HoughCircles(cv2.cvtColor(image_gray,cv2.COLOR_BGR2GRAY), cv2.HOUGH_GRADIENT,1.50,minDist=190,\n",
    "                                    param1=20,param2=40,minRadius=220,maxRadius=250)\n",
    "\n",
    "for (x,y,r) in  circles:\n",
    "        x_center = x\n",
    "        y_center = y\n",
    "        centers.append((x,y,r))\n",
    "        print(\"center has coordinate ({},{}), radius = {}\".format(x,y,r))\n",
    "        image_rgb = cv2.circle(image_rgb,(x,y),r,(0,255,255),2)\n",
    "        # image_rgb = cv2.circle(image_rgb,(x,y),2,(255,0,0),3)# adding the centre of the circle\n",
    "\n",
    "plt.imshow(image_rgb)\n",
    "plt.show()\n",
    "       "
   ]
  },
  {
   "cell_type": "code",
   "execution_count": null,
   "metadata": {},
   "outputs": [],
   "source": []
  }
 ]
}