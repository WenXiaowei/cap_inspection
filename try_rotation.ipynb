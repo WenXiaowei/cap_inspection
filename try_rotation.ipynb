{
 "metadata": {
  "language_info": {
   "codemirror_mode": {
    "name": "ipython",
    "version": 3
   },
   "file_extension": ".py",
   "mimetype": "text/x-python",
   "name": "python",
   "nbconvert_exporter": "python",
   "pygments_lexer": "ipython3",
   "version": "3.7.9-final"
  },
  "orig_nbformat": 2,
  "kernelspec": {
   "name": "python3",
   "display_name": "Python 3.7.9 64-bit",
   "metadata": {
    "interpreter": {
     "hash": "f04d200b35e943e5941ce662a09d462b0ab2e8c5d229c092de841aa16abb7442"
    }
   }
  }
 },
 "nbformat": 4,
 "nbformat_minor": 2,
 "cells": [
  {
   "cell_type": "code",
   "execution_count": 20,
   "metadata": {},
   "outputs": [],
   "source": [
    "import imutils\n",
    "import numpy as np\n",
    "from matplotlib import pyplot as plt\n",
    "import os\n",
    "from skimage.transform import hough_ellipse, hough_line\n",
    "import cv2\n",
    "import pandas as pd"
   ]
  },
  {
   "cell_type": "code",
   "execution_count": 2,
   "metadata": {
    "tags": []
   },
   "outputs": [],
   "source": [
    "file_names = os.listdir(\"images\")\n",
    "file_names = [\"images\\{}\".format(name) for name in file_names]\n",
    "\n",
    "cb_images =list()\n",
    "cropped_images= list()\n",
    "original_images = list()\n",
    "for file_name in file_names:\n",
    "    image = cv2.imread(file_name)\n",
    "    cropped_image= image[40:550,130:650]\n",
    "    cropped_image[0:30,0:30]= 0\n",
    "    cropped_images.append(cropped_image.copy())\n",
    "    blurred_image = cv2.GaussianBlur(cropped_image,(13,13),0)\n",
    "    cb_images.append(blurred_image)\n",
    "    "
   ]
  },
  {
   "cell_type": "code",
   "execution_count": 2,
   "metadata": {},
   "outputs": [],
   "source": [
    "file_names = os.listdir(\"highlighted\")\n",
    "file_names = [\"highlighted\\{}\".format(name) for name in file_names]\n",
    "# file_names = os.listdir(\"cavity\")\n",
    "# file_names = [\"Cavity\\{}\".format(name) for name in file_names]\n",
    "imgs = list()\n",
    "for file_name in file_names:\n",
    "    img = cv2.imread(file_name)\n",
    "    imgs.append(img)\n",
    "# img = cv2.imread(\"cavity\\Cavity_0.bmp\")"
   ]
  },
  {
   "cell_type": "code",
   "execution_count": 19,
   "metadata": {},
   "outputs": [],
   "source": [
    "crops = list()\n",
    "for image in imgs:\n",
    "    margin = 0.8 # Cut off the outer 10% of the image\n",
    "    # Do the polar rotation along 1024 angular steps with a radius of 256 pixels.\n",
    "    polar_img = cv2.warpPolar(image, (256, 1024+180), (img.shape[0]/2,img.shape[1]/2), image.shape[1]*margin*0.7, cv2.WARP_POLAR_LINEAR)\n",
    "    # polar_img = cv2.warpPolar(image, (232, 1024), (243,253), image.shape[1]*margin*0.65, cv2.WARP_POLAR_LINEAR)\n",
    "    # Rotate it sideways to be more visually pleasing\n",
    "    polar_img = cv2.rotate(polar_img, cv2.ROTATE_90_COUNTERCLOCKWISE)\n",
    "\n",
    "    # plt.imshow(polar_img),plt.show()\n",
    "\n",
    "    crop = polar_img[90:150,825:1000]\n",
    "    # plt.imshow(crop),plt.show()\n",
    "    crops.append(crop)"
   ]
  },
  {
   "cell_type": "code",
   "execution_count": 24,
   "metadata": {},
   "outputs": [
    {
     "output_type": "error",
     "ename": "AttributeError",
     "evalue": "module 'cv2.cv2' has no attribute 'hough_lines'",
     "traceback": [
      "\u001b[1;31m---------------------------------------------------------------------------\u001b[0m",
      "\u001b[1;31mAttributeError\u001b[0m                            Traceback (most recent call last)",
      "\u001b[1;32m<ipython-input-24-6ecbfcf28107>\u001b[0m in \u001b[0;36m<module>\u001b[1;34m\u001b[0m\n\u001b[0;32m      4\u001b[0m     \u001b[0mblurred_image\u001b[0m \u001b[1;33m=\u001b[0m \u001b[0mcv2\u001b[0m\u001b[1;33m.\u001b[0m\u001b[0mGaussianBlur\u001b[0m\u001b[1;33m(\u001b[0m\u001b[0mcrop\u001b[0m\u001b[1;33m,\u001b[0m\u001b[1;33m(\u001b[0m\u001b[1;36m13\u001b[0m\u001b[1;33m,\u001b[0m\u001b[1;36m13\u001b[0m\u001b[1;33m)\u001b[0m\u001b[1;33m,\u001b[0m\u001b[1;36m0\u001b[0m\u001b[1;33m)\u001b[0m\u001b[1;33m\u001b[0m\u001b[1;33m\u001b[0m\u001b[0m\n\u001b[0;32m      5\u001b[0m \u001b[1;33m\u001b[0m\u001b[0m\n\u001b[1;32m----> 6\u001b[1;33m     \u001b[0mlines\u001b[0m \u001b[1;33m=\u001b[0m \u001b[0mcv2\u001b[0m\u001b[1;33m.\u001b[0m\u001b[0mhough_lines\u001b[0m\u001b[1;33m(\u001b[0m\u001b[0mblurred_image\u001b[0m\u001b[1;33m,\u001b[0m \u001b[1;36m1\u001b[0m\u001b[1;33m,\u001b[0m \u001b[0mnp\u001b[0m\u001b[1;33m.\u001b[0m\u001b[0mpi\u001b[0m \u001b[1;33m/\u001b[0m \u001b[1;36m180\u001b[0m\u001b[1;33m,\u001b[0m \u001b[1;36m150\u001b[0m\u001b[1;33m,\u001b[0m \u001b[1;32mNone\u001b[0m\u001b[1;33m,\u001b[0m \u001b[1;36m0\u001b[0m\u001b[1;33m,\u001b[0m \u001b[1;36m0\u001b[0m\u001b[1;33m)\u001b[0m\u001b[1;33m\u001b[0m\u001b[1;33m\u001b[0m\u001b[0m\n\u001b[0m\u001b[0;32m      7\u001b[0m \u001b[1;33m\u001b[0m\u001b[0m\n\u001b[0;32m      8\u001b[0m     \u001b[1;32mif\u001b[0m \u001b[0mlinesP\u001b[0m \u001b[1;32mis\u001b[0m \u001b[1;32mnot\u001b[0m \u001b[1;32mNone\u001b[0m\u001b[1;33m:\u001b[0m\u001b[1;33m\u001b[0m\u001b[1;33m\u001b[0m\u001b[0m\n",
      "\u001b[1;31mAttributeError\u001b[0m: module 'cv2.cv2' has no attribute 'hough_lines'"
     ]
    }
   ],
   "source": [
    "\n",
    "for i in range (len(crops)):\n",
    "    crop = crops[i]\n",
    "\n",
    "    blurred_image = cv2.GaussianBlur(crop,(13,13),0)\n",
    "\n",
    "    lines = cv2.hough_lines(blurred_image, 1, np.pi / 180, 150, None, 0, 0)\n",
    "\n",
    "    if linesP is not None:\n",
    "        for i in range(0, len(linesP)):\n",
    "            l = linesP[i][0]\n",
    "            cv.line(crop, (l[0], l[1]), (l[2], l[3]), (0,0,255), 3, cv.LINE_AA)\n",
    "    plt.imshow(crop)\n",
    "    plt.show()"
   ]
  }
 ]
}