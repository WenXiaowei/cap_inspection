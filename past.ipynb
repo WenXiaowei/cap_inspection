{
 "metadata": {
  "language_info": {
   "codemirror_mode": {
    "name": "ipython",
    "version": 3
   },
   "file_extension": ".py",
   "mimetype": "text/x-python",
   "name": "python",
   "nbconvert_exporter": "python",
   "pygments_lexer": "ipython3",
   "version": "3.7.9-final"
  },
  "orig_nbformat": 2,
  "kernelspec": {
   "name": "python3",
   "display_name": "Python 3.7.9 64-bit",
   "metadata": {
    "interpreter": {
     "hash": "f04d200b35e943e5941ce662a09d462b0ab2e8c5d229c092de841aa16abb7442"
    }
   }
  }
 },
 "nbformat": 4,
 "nbformat_minor": 2,
 "cells": [
  {
   "cell_type": "code",
   "execution_count": 1,
   "metadata": {},
   "outputs": [
    {
     "output_type": "error",
     "ename": "AttributeError",
     "evalue": "module 'abel.tools.analytical' has no attribute 'sample_image'",
     "traceback": [
      "\u001b[1;31m---------------------------------------------------------------------------\u001b[0m",
      "\u001b[1;31mAttributeError\u001b[0m                            Traceback (most recent call last)",
      "\u001b[1;32m<ipython-input-1-eb37c7e9606b>\u001b[0m in \u001b[0;36m<module>\u001b[1;34m\u001b[0m\n\u001b[0;32m      3\u001b[0m \u001b[1;32mimport\u001b[0m \u001b[0mabel\u001b[0m\u001b[1;33m\u001b[0m\u001b[1;33m\u001b[0m\u001b[0m\n\u001b[0;32m      4\u001b[0m \u001b[1;33m\u001b[0m\u001b[0m\n\u001b[1;32m----> 5\u001b[1;33m \u001b[0mCartImage\u001b[0m \u001b[1;33m=\u001b[0m \u001b[0mabel\u001b[0m\u001b[1;33m.\u001b[0m\u001b[0mtools\u001b[0m\u001b[1;33m.\u001b[0m\u001b[0manalytical\u001b[0m\u001b[1;33m.\u001b[0m\u001b[0msample_image\u001b[0m\u001b[1;33m(\u001b[0m\u001b[1;36m501\u001b[0m\u001b[1;33m)\u001b[0m\u001b[1;33m[\u001b[0m\u001b[1;36m201\u001b[0m\u001b[1;33m:\u001b[0m\u001b[1;33m-\u001b[0m\u001b[1;36m200\u001b[0m\u001b[1;33m,\u001b[0m \u001b[1;36m201\u001b[0m\u001b[1;33m:\u001b[0m\u001b[1;33m-\u001b[0m\u001b[1;36m200\u001b[0m\u001b[1;33m]\u001b[0m\u001b[1;33m\u001b[0m\u001b[1;33m\u001b[0m\u001b[0m\n\u001b[0m\u001b[0;32m      6\u001b[0m \u001b[1;33m\u001b[0m\u001b[0m\n\u001b[0;32m      7\u001b[0m \u001b[0mPolarImage\u001b[0m\u001b[1;33m,\u001b[0m \u001b[0mr_grid\u001b[0m\u001b[1;33m,\u001b[0m \u001b[0mtheta_grid\u001b[0m \u001b[1;33m=\u001b[0m \u001b[0mabel\u001b[0m\u001b[1;33m.\u001b[0m\u001b[0mtools\u001b[0m\u001b[1;33m.\u001b[0m\u001b[0mpolar\u001b[0m\u001b[1;33m.\u001b[0m\u001b[0mreproject_image_into_polar\u001b[0m\u001b[1;33m(\u001b[0m\u001b[0mCartImage\u001b[0m\u001b[1;33m)\u001b[0m\u001b[1;33m\u001b[0m\u001b[1;33m\u001b[0m\u001b[0m\n",
      "\u001b[1;31mAttributeError\u001b[0m: module 'abel.tools.analytical' has no attribute 'sample_image'"
     ]
    }
   ],
   "source": [
    "import numpy as np\n",
    "import matplotlib.pyplot as plt\n",
    "import abel\n",
    "import cv2\n",
    "\n",
    "cv2.imread(\"\")\n",
    "\n",
    "CartImage = abel.tools.analytical.sample_image(501)[201:-200, 201:-200]\n",
    "\n",
    "PolarImage, r_grid, theta_grid = abel.tools.polar.reproject_image_into_polar(CartImage)\n",
    "\n",
    "fig, axs = plt.subplots(1,2, figsize=(7,3.5))\n",
    "axs[0].imshow(CartImage , aspect='auto', origin='lower')\n",
    "axs[1].imshow(PolarImage, aspect='auto', origin='lower', \n",
    "              extent=(np.min(theta_grid), np.max(theta_grid), np.min(r_grid), np.max(r_grid)))\n",
    "\n",
    "axs[0].set_title('Cartesian')\n",
    "axs[0].set_xlabel('x')\n",
    "axs[0].set_ylabel('y')\n",
    "\n",
    "axs[1].set_title('Polar')\n",
    "axs[1].set_xlabel('Theta')\n",
    "axs[1].set_ylabel('r')\n",
    "\n",
    "plt.tight_layout()\n",
    "plt.show()"
   ]
  }
 ]
}